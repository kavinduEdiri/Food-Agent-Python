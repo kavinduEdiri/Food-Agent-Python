{
 "cells": [
  {
   "cell_type": "code",
   "execution_count": null,
   "id": "77d22496",
   "metadata": {},
   "outputs": [],
   "source": [
    "\n",
    "# Food Delivery Agent\n",
    "\n",
    "# Menu items\n",
    "menu = {\n",
    "    \"Pizza\": 8,\n",
    "    \"Burger\": 5,\n",
    "    \"Pasta\": 7,\n",
    "    \"Salad\": 4\n",
    "}\n",
    "\n",
    "def display_menu():\n",
    "    print(\"Welcome to Food Delivery! Here’s our menu:\")\n",
    "    for item, price in menu.items():\n",
    "        print(f\"- {item}: ${price}\")\n",
    "\n",
    "def calculate_total(selected_items):\n",
    "    return sum(menu[item] for item in selected_items)\n",
    "\n",
    "def food_delivery_agent():\n",
    "    display_menu()\n",
    "    \n",
    "    # Prompt user to input their order\n",
    "    order_input = input(\"\\nPlease enter the items you’d like to order (separated by commas): \").strip()\n",
    "    chosen_items = [item.strip() for item in order_input.split(\",\") if item.strip() in menu]\n",
    "    \n",
    "    if not chosen_items:\n",
    "        print(\"No valid items were selected. Please try again.\")\n",
    "        return\n",
    "    \n",
    "    # Calculate and display the total cost\n",
    "    total_cost = calculate_total(chosen_items)\n",
    "    print(f\"\\nYou’ve selected: {', '.join(chosen_items)}. Your total is: ${total_cost}.\")\n",
    "    \n",
    "    # Prompt for the delivery address\n",
    "    address = input(\"\\nPlease provide your delivery address: \").strip()\n",
    "    if address:\n",
    "        print(f\"\\nThank you! Your order will be delivered to: {address}.\")\n",
    "    else:\n",
    "        print(\"\\nNo address provided. Unable to finalize the order.\")\n",
    "\n",
    "# Execute the program\n",
    "if __name__ == \"__main__\":\n",
    "    food_delivery_agent()"
   ]
  }
 ],
 "metadata": {
  "kernelspec": {
   "display_name": "Python 3 (ipykernel)",
   "language": "python",
   "name": "python3"
  },
  "language_info": {
   "codemirror_mode": {
    "name": "ipython",
    "version": 3
   },
   "file_extension": ".py",
   "mimetype": "text/x-python",
   "name": "python",
   "nbconvert_exporter": "python",
   "pygments_lexer": "ipython3",
   "version": "3.11.5"
  }
 },
 "nbformat": 4,
 "nbformat_minor": 5
}
